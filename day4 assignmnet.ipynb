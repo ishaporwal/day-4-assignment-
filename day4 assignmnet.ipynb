{
 "cells": [
  {
   "cell_type": "code",
   "execution_count": 1,
   "metadata": {},
   "outputs": [
    {
     "name": "stdout",
     "output_type": "stream",
     "text": [
      "true\n"
     ]
    }
   ],
   "source": [
    "query = \"BLUE\"\n",
    "if query.isupper():\n",
    "    print ('true')\n",
    "else: \n",
    "    print ('false')"
   ]
  },
  {
   "cell_type": "code",
   "execution_count": 2,
   "metadata": {},
   "outputs": [
    {
     "name": "stdout",
     "output_type": "stream",
     "text": [
      "enter the name atharv\n",
      "atharv\n",
      "true\n"
     ]
    }
   ],
   "source": [
    "name = input(\"enter the name \")\n",
    "print (name)\n",
    "if name == \"atharv\":\n",
    "    if name.islower():\n",
    "        print ('true')\n",
    "    else:\n",
    "        print ('name is in capital')\n",
    "else:\n",
    "    print ('enter the correct name')"
   ]
  },
  {
   "cell_type": "code",
   "execution_count": 3,
   "metadata": {},
   "outputs": [
    {
     "name": "stdout",
     "output_type": "stream",
     "text": [
      "enter the name ATHARV\n",
      "ATHARV\n",
      "enter the correct name\n"
     ]
    }
   ],
   "source": [
    "name = input(\"enter the name \")\n",
    "print (name)\n",
    "if name == \"atharv\":\n",
    "    if name.islower():\n",
    "        print ('true')\n",
    "    else:\n",
    "        print ('name is in capital')\n",
    "else:\n",
    "    print ('enter the correct name')"
   ]
  },
  {
   "cell_type": "code",
   "execution_count": 15,
   "metadata": {},
   "outputs": [
    {
     "name": "stdout",
     "output_type": "stream",
     "text": [
      "[0, 15, 28]\n"
     ]
    }
   ],
   "source": [
    "str1 = \"the fish is in the water in the pond\"\n",
    "sub_string = \"the\"\n",
    "res =[]\n",
    "for i in range(len(str1)):\n",
    "    if str1.startswith(sub_string,i):\n",
    "        res.append(i)\n",
    "print(res)"
   ]
  },
  {
   "cell_type": "code",
   "execution_count": null,
   "metadata": {},
   "outputs": [],
   "source": []
  }
 ],
 "metadata": {
  "kernelspec": {
   "display_name": "Python 3",
   "language": "python",
   "name": "python3"
  },
  "language_info": {
   "codemirror_mode": {
    "name": "ipython",
    "version": 3
   },
   "file_extension": ".py",
   "mimetype": "text/x-python",
   "name": "python",
   "nbconvert_exporter": "python",
   "pygments_lexer": "ipython3",
   "version": "3.7.6"
  }
 },
 "nbformat": 4,
 "nbformat_minor": 4
}
